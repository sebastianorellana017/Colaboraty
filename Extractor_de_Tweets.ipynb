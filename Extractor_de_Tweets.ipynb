{
  "nbformat": 4,
  "nbformat_minor": 0,
  "metadata": {
    "colab": {
      "name": "Extractor_de_Tweets",
      "provenance": [],
      "include_colab_link": true
    },
    "kernelspec": {
      "name": "python3",
      "display_name": "Python 3"
    },
    "language_info": {
      "name": "python"
    }
  },
  "cells": [
    {
      "cell_type": "markdown",
      "metadata": {
        "id": "view-in-github",
        "colab_type": "text"
      },
      "source": [
        "<a href=\"https://colab.research.google.com/github/sebastianorellana017/Colaboraty/blob/main/Extractor_de_Tweets.ipynb\" target=\"_parent\"><img src=\"https://colab.research.google.com/assets/colab-badge.svg\" alt=\"Open In Colab\"/></a>"
      ]
    },
    {
      "cell_type": "markdown",
      "source": [
        "https://www.cienciadedatos.net/documentos/py25-text-mining-python.html\n",
        "\n",
        "https://dev.to/twitterdev/a-comprehensive-guide-for-using-the-twitter-api-v2-using-tweepy-in-python-15d9"
      ],
      "metadata": {
        "id": "-qWAcUNp7TqL"
      }
    },
    {
      "cell_type": "code",
      "source": [
        "!pip install tweepy"
      ],
      "metadata": {
        "id": "UoA5DdMxfg81"
      },
      "execution_count": null,
      "outputs": []
    },
    {
      "cell_type": "code",
      "execution_count": null,
      "metadata": {
        "id": "7fa6wE_V2NA4"
      },
      "outputs": [],
      "source": [
        "import tweepy\n",
        "\n",
        "consumer_key = \"ENZLJDmJ1kfP21qreuhDmwzaS\"\n",
        "consumer_secret = \"H6WyWJHn6YHkljmc3PbZGyJOeQGs4mf4flgC32YGizyTVdDaaW\"\n",
        "bearer_token = 'AAAAAAAAAAAAAAAAAAAAAAjqdwEAAAAABo1MVrqx435%2F%2FsKNrUgokMRQeug%3DdV2UM3Qo7a9CGyy6eF5BduHU5c3QHHa4SBpZQXDD2W1KIJZG2r'\n",
        "access_token = \"170121787-RPS3d4IoBJkcNk9KDCbc6BeF23JjHr1vCdiV9UqP\"\n",
        "access_token_secret = \"c1qzElYZwVaoHuaLsEfXT75dbUaWbeiWA593J1vEdW6qf\""
      ]
    },
    {
      "cell_type": "markdown",
      "source": [
        "*But keep in mind that Twitter levies a rate limit on the number of requests made to the Twitter API. To be precise, 900 requests/15 minutes are allowed; Twitter feeds anything above that an error.*\n",
        "\n",
        "**Twitter error response: status code = 429**"
      ],
      "metadata": {
        "id": "ucGJ1tCiJUdW"
      }
    },
    {
      "cell_type": "code",
      "source": [
        "# Creamos un handler con las 2 claves de cliente\n",
        "auth = tweepy.OAuthHandler(consumer_key, consumer_secret)\n",
        "# Pasamos los tokens de acceso\n",
        "auth.set_access_token(access_token, access_token_secret)\n",
        "# Guardamos la autorizacion a la API en una variable\n",
        "api = tweepy.API(auth)\n",
        "\n",
        "#wait_on_rate_limit=True, wait_on_rate_limit_notify=True"
      ],
      "metadata": {
        "id": "8KhjQ13y2aUQ"
      },
      "execution_count": null,
      "outputs": []
    },
    {
      "cell_type": "code",
      "source": [
        "#Buscar por palabra\n",
        "import pandas as pd \n",
        "\n",
        "simple_list = []\n",
        "query = ['cortedeluz']\n",
        "\n",
        "for status in tweepy.Cursor(api.search, q=query, exclude_replies = True, include_rts = False, tweet_mode='extended', lang='es').items(0):\n",
        " \n",
        "    simple_list.append([status.full_text, status.created_at, status.favorite_count, status.retweet_count, status.lang, status.user.location, [h['text'] for h in status.entities['hashtags']]])\n",
        "\n",
        "simple_list = pd.DataFrame(simple_list, columns=['Text', 'Created at', 'Likes', 'Retweets', 'lang','geo','Hashtags'])\n",
        "\n",
        "simple_list.to_csv('cortedeluz.csv')"
      ],
      "metadata": {
        "id": "8CApALB42cvb"
      },
      "execution_count": null,
      "outputs": []
    },
    {
      "cell_type": "code",
      "source": [
        "#No buscar por palabra\n",
        "import pandas as pd \n",
        "\n",
        "simple_list = []\n",
        "query = [not('CorteDeLuz')]\n",
        "\n",
        "for status in tweepy.Cursor(api.search, q=query, exclude_replies = True, include_rts = False, tweet_mode='extended', lang='es').items(100):\n",
        " \n",
        "    simple_list.append([status.full_text, status.created_at, status.favorite_count, status.retweet_count, status.lang, status.user.location, [h['text'] for h in status.entities['hashtags']]])\n",
        "\n",
        "simple_list = pd.DataFrame(simple_list, columns=['Text', 'Created at', 'Likes', 'Retweets', 'lang','geo','Hashtags'])\n",
        "\n",
        "simple_list.to_csv('NOcortedeluz.csv')"
      ],
      "metadata": {
        "id": "7vI0XvfR2kZl"
      },
      "execution_count": null,
      "outputs": []
    },
    {
      "cell_type": "code",
      "source": [
        "places = api.geo_search(query=\"Chile\", granularity=\"country\")\n",
        "place_id = places[0].id\n",
        "# Usamos el Cursor dentro de un for\n",
        "for tweet in tweepy.Cursor(api.search, q='cortedeluz'and (\"place:%s\" % place_id), location='CL').items(5):\n",
        "    print(tweet.text)\n",
        "    print(tweet.created_at)\n",
        "    print(tweet.user.location)\n",
        "    print('**********************')"
      ],
      "metadata": {
        "id": "0D9_DXpc5W58"
      },
      "execution_count": null,
      "outputs": []
    },
    {
      "cell_type": "code",
      "source": [
        "# Usamos el Cursor dentro de un for\n",
        "for tweet in tweepy.Cursor(api.search, q='EnelClientes').items(5):\n",
        "    print(tweet.text)\n",
        "    print(tweet.created_at)\n",
        "    print(tweet.user.location)\n",
        "    print('-----------------')"
      ],
      "metadata": {
        "colab": {
          "base_uri": "https://localhost:8080/"
        },
        "id": "jc4S18y_0oi6",
        "outputId": "bd3ea750-36cf-4a01-e9e6-950bcd502895"
      },
      "execution_count": null,
      "outputs": [
        {
          "output_type": "stream",
          "name": "stdout",
          "text": [
            "#Enelclientes.cl sin luz en calle Pehuen\n",
            "Se sabe que pasa?\n",
            "2022-07-07 01:09:14\n",
            "Santiago de Chile\n",
            "-----------------\n",
            "@EnelClientesCL #Enelclientes  2% bateria solo para poner otro reclamo 36 horas sin luzzzzzzzzz en maipu https://t.co/vq4MSwurfM\n",
            "2022-07-05 12:16:48\n",
            "Maipú, Chile\n",
            "-----------------\n",
            "@AlbertoPando Mucho cuidado con los cambios de voltaje. Anoche pasó lo mismo en parte de Peñalolén y con las alzas… https://t.co/eXt6va4XiI\n",
            "2022-07-05 02:36:35\n",
            "Chile\n",
            "-----------------\n",
            "@EnelClientesCL @EnelClientesCL Llevo 25 horas sin luz ya hise 5 peticiones de urgencia hay un cable expuesto que s… https://t.co/wMjzxmfNkx\n",
            "2022-07-04 20:18:37\n",
            "\n",
            "-----------------\n",
            "RT @CeciVioleta: @enelclientes @enelchile @sanmiguel_cl #enel\n",
            "2022-07-04 12:54:49\n",
            "Santiago de Chile\n",
            "-----------------\n"
          ]
        }
      ]
    }
  ]
}